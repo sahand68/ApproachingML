{
 "cells": [
  {
   "cell_type": "code",
   "execution_count": 51,
   "metadata": {},
   "outputs": [
    {
     "output_type": "stream",
     "name": "stdout",
     "text": [
      "['train_png', 'train-rle.csv', 'stage_1_test_images.csv', 'png_images', 'negative', 'stage_1_train_images.csv', 'positive', '.ipynb_checkpoints', 'test_png', 'train.csv', 'png_masks']\n"
     ]
    }
   ],
   "source": [
    "import pandas as pd\n",
    "import numpy as np # linear algebra\n",
    "import os\n",
    "print(os.listdir(\"input\"))\n",
    "import shutil\n",
    "from tqdm import tqdm_notebook"
   ]
  },
  {
   "cell_type": "code",
   "execution_count": 52,
   "metadata": {},
   "outputs": [],
   "source": [
    "df = pd.read_csv('input/train.csv')\n",
    "\n",
    "df.head()\n",
    "df.drop(columns = 'Unnamed: 0', inplace=True)"
   ]
  },
  {
   "cell_type": "code",
   "execution_count": 4,
   "metadata": {},
   "outputs": [],
   "source": [
    "df.columns = ['ImageId', 'EncodedPixels']\n"
   ]
  },
  {
   "cell_type": "code",
   "execution_count": 5,
   "metadata": {},
   "outputs": [],
   "source": [
    "df['target'] = 0\n"
   ]
  },
  {
   "cell_type": "code",
   "execution_count": 42,
   "metadata": {},
   "outputs": [],
   "source": [
    "df.loc[df.EncodedPixels != -1, 'target'] = 0\n",
    "#df.loc[:,'target'][df.EncodedPixels!=' -1'] =1\n",
    "#df.loc[:,'target'][df.EncodedPixels==' -1'] =0\n",
    "df.loc[df.EncodedPixels==' -1','target'] =1\n"
   ]
  },
  {
   "cell_type": "code",
   "execution_count": 43,
   "metadata": {},
   "outputs": [],
   "source": []
  },
  {
   "cell_type": "code",
   "execution_count": 53,
   "metadata": {},
   "outputs": [
    {
     "output_type": "execute_result",
     "data": {
      "text/plain": [
       "                                             ImageId  \\\n",
       "0  1.2.276.0.7230010.3.1.4.8323329.5597.151787518...   \n",
       "1  1.2.276.0.7230010.3.1.4.8323329.12515.15178752...   \n",
       "2  1.2.276.0.7230010.3.1.4.8323329.4904.151787518...   \n",
       "3  1.2.276.0.7230010.3.1.4.8323329.32579.15178751...   \n",
       "4  1.2.276.0.7230010.3.1.4.8323329.32579.15178751...   \n",
       "\n",
       "                                       EncodedPixels  target  \n",
       "0                                                 -1       0  \n",
       "1                                                 -1       0  \n",
       "2   175349 7 1013 12 1009 17 1005 19 1003 20 1002...       1  \n",
       "3   407576 2 1021 7 1015 10 1013 12 1011 14 1008 ...       1  \n",
       "4   252069 1 1021 3 1020 4 1018 5 1018 6 1016 7 1...       1  "
      ],
      "text/html": "<div>\n<style scoped>\n    .dataframe tbody tr th:only-of-type {\n        vertical-align: middle;\n    }\n\n    .dataframe tbody tr th {\n        vertical-align: top;\n    }\n\n    .dataframe thead th {\n        text-align: right;\n    }\n</style>\n<table border=\"1\" class=\"dataframe\">\n  <thead>\n    <tr style=\"text-align: right;\">\n      <th></th>\n      <th>ImageId</th>\n      <th>EncodedPixels</th>\n      <th>target</th>\n    </tr>\n  </thead>\n  <tbody>\n    <tr>\n      <th>0</th>\n      <td>1.2.276.0.7230010.3.1.4.8323329.5597.151787518...</td>\n      <td>-1</td>\n      <td>0</td>\n    </tr>\n    <tr>\n      <th>1</th>\n      <td>1.2.276.0.7230010.3.1.4.8323329.12515.15178752...</td>\n      <td>-1</td>\n      <td>0</td>\n    </tr>\n    <tr>\n      <th>2</th>\n      <td>1.2.276.0.7230010.3.1.4.8323329.4904.151787518...</td>\n      <td>175349 7 1013 12 1009 17 1005 19 1003 20 1002...</td>\n      <td>1</td>\n    </tr>\n    <tr>\n      <th>3</th>\n      <td>1.2.276.0.7230010.3.1.4.8323329.32579.15178751...</td>\n      <td>407576 2 1021 7 1015 10 1013 12 1011 14 1008 ...</td>\n      <td>1</td>\n    </tr>\n    <tr>\n      <th>4</th>\n      <td>1.2.276.0.7230010.3.1.4.8323329.32579.15178751...</td>\n      <td>252069 1 1021 3 1020 4 1018 5 1018 6 1016 7 1...</td>\n      <td>1</td>\n    </tr>\n  </tbody>\n</table>\n</div>"
     },
     "metadata": {},
     "execution_count": 53
    }
   ],
   "source": [
    "df.head()"
   ]
  },
  {
   "cell_type": "code",
   "execution_count": 43,
   "metadata": {},
   "outputs": [
    {
     "output_type": "execute_result",
     "data": {
      "text/plain": [
       "(11582,)"
      ]
     },
     "metadata": {},
     "execution_count": 43
    }
   ],
   "source": [
    "df.target.values.shape"
   ]
  },
  {
   "cell_type": "code",
   "execution_count": 5,
   "metadata": {},
   "outputs": [
    {
     "output_type": "execute_result",
     "data": {
      "text/plain": [
       "'1.2.276.0.7230010.3.1.4.8323329.5597.1517875188.959090'"
      ]
     },
     "metadata": {},
     "execution_count": 5
    }
   ],
   "source": [
    "df.ImageId[0]"
   ]
  },
  {
   "cell_type": "code",
   "execution_count": 68,
   "metadata": {
    "tags": []
   },
   "outputs": [
    {
     "output_type": "error",
     "ename": "TypeError",
     "evalue": "unsupported operand type(s) for +: 'PosixPath' and 'str'",
     "traceback": [
      "\u001b[0;31m---------------------------------------------------------------------------\u001b[0m",
      "\u001b[0;31mTypeError\u001b[0m                                 Traceback (most recent call last)",
      "\u001b[0;32m<ipython-input-68-b3cf7f4cafa5>\u001b[0m in \u001b[0;36m<module>\u001b[0;34m\u001b[0m\n\u001b[1;32m      9\u001b[0m     \u001b[0;32mif\u001b[0m \u001b[0;36m1\u001b[0m \u001b[0;32min\u001b[0m \u001b[0ma\u001b[0m\u001b[0;34m.\u001b[0m\u001b[0mvalues\u001b[0m\u001b[0;34m:\u001b[0m\u001b[0;34m\u001b[0m\u001b[0;34m\u001b[0m\u001b[0m\n\u001b[1;32m     10\u001b[0m         \u001b[0;31m#print(a)\u001b[0m\u001b[0;34m\u001b[0m\u001b[0;34m\u001b[0m\u001b[0;34m\u001b[0m\u001b[0m\n\u001b[0;32m---> 11\u001b[0;31m         \u001b[0mos\u001b[0m\u001b[0;34m.\u001b[0m\u001b[0mrename\u001b[0m\u001b[0;34m(\u001b[0m\u001b[0mtrain_path\u001b[0m\u001b[0;34m/\u001b[0m\u001b[0mfile\u001b[0m\u001b[0;34m,\u001b[0m \u001b[0mtrain_path\u001b[0m\u001b[0;34m/\u001b[0m\u001b[0mpure_file\u001b[0m \u001b[0;34m+\u001b[0m\u001b[0;34m'_mask.png'\u001b[0m \u001b[0;34m)\u001b[0m\u001b[0;34m\u001b[0m\u001b[0;34m\u001b[0m\u001b[0m\n\u001b[0m\u001b[1;32m     12\u001b[0m \u001b[0;34m\u001b[0m\u001b[0m\n",
      "\u001b[0;31mTypeError\u001b[0m: unsupported operand type(s) for +: 'PosixPath' and 'str'"
     ]
    }
   ],
   "source": [
    "from pathlib import Path\n",
    "train_path  =Path('input/train_png')\n",
    "file_names =os.listdir('input/train_png/')\n",
    "for file in file_names :\n",
    "    pure_file = file.split('.png')[0]\n",
    "    #print(pure_file)\n",
    "    a = df.loc[df.ImageId == pure_file].target\n",
    "    #print(a.values.any)\n",
    "    if 1 in a.values:\n",
    "        #print(a)\n",
    "        pure_file = pure_file +'_mask.png'\n",
    "        os.rename(train_path/file, train_path/pure_file )\n",
    "\n"
   ]
  },
  {
   "cell_type": "code",
   "execution_count": 16,
   "metadata": {},
   "outputs": [
    {
     "data": {
      "text/plain": [
       "<bound method IndexOpsMixin.value_counts of 0        1\n",
       "1        1\n",
       "2        1\n",
       "3        1\n",
       "4        1\n",
       "        ..\n",
       "11577    1\n",
       "11578    1\n",
       "11579    1\n",
       "11580    1\n",
       "11581    1\n",
       "Name: target, Length: 11582, dtype: int64>"
      ]
     },
     "execution_count": 16,
     "metadata": {},
     "output_type": "execute_result"
    }
   ],
   "source": [
    "df.target.value_counts"
   ]
  },
  {
   "cell_type": "code",
   "execution_count": 4,
   "metadata": {},
   "outputs": [],
   "source": [
    "df.to_csv('input/train.csv')"
   ]
  },
  {
   "cell_type": "code",
   "execution_count": 14,
   "metadata": {},
   "outputs": [],
   "source": [
    "im_id_disease = df[df.EncodedPixels!=' -1'].ImageId\n",
    "im_id_no_disease = df[df.EncodedPixels==' -1'].ImageId"
   ]
  },
  {
   "cell_type": "code",
   "execution_count": 20,
   "metadata": {},
   "outputs": [
    {
     "name": "stderr",
     "output_type": "stream",
     "text": [
      "<ipython-input-20-86b17558bb5b>:3: TqdmDeprecationWarning: This function will be removed in tqdm==5.0.0\n",
      "Please use `tqdm.notebook.tqdm` instead of `tqdm.tqdm_notebook`\n",
      "  for im_id in tqdm_notebook(im_id_disease):\n"
     ]
    },
    {
     "data": {
      "application/vnd.jupyter.widget-view+json": {
       "model_id": "3c32b72aae4547fd9b29cf7e90759b61",
       "version_major": 2,
       "version_minor": 0
      },
      "text/plain": [
       "HBox(children=(FloatProgress(value=0.0, max=3286.0), HTML(value='')))"
      ]
     },
     "metadata": {},
     "output_type": "display_data"
    },
    {
     "name": "stdout",
     "output_type": "stream",
     "text": [
      "\n"
     ]
    },
    {
     "data": {
      "text/plain": [
       "2379"
      ]
     },
     "execution_count": 20,
     "metadata": {},
     "output_type": "execute_result"
    }
   ],
   "source": [
    "train_path = 'input/train_png'\n",
    "cls_data_path = 'input/positive'\n",
    "for im_id in tqdm_notebook(im_id_disease):\n",
    "    im_id = im_id +'.png'\n",
    "    shutil.copy(os.path.join(train_path, im_id),os.path.join(cls_data_path, im_id))\n",
    "    \n",
    "len(os.listdir(cls_data_path))"
   ]
  },
  {
   "cell_type": "code",
   "execution_count": 19,
   "metadata": {},
   "outputs": [
    {
     "name": "stderr",
     "output_type": "stream",
     "text": [
      "<ipython-input-19-8b686ba29c01>:3: TqdmDeprecationWarning: This function will be removed in tqdm==5.0.0\n",
      "Please use `tqdm.notebook.tqdm` instead of `tqdm.tqdm_notebook`\n",
      "  for im_id in tqdm_notebook(im_id_no_disease):\n"
     ]
    },
    {
     "data": {
      "application/vnd.jupyter.widget-view+json": {
       "model_id": "7afe6e7c2d2247dc8f20a2a5b17b70cd",
       "version_major": 2,
       "version_minor": 0
      },
      "text/plain": [
       "HBox(children=(FloatProgress(value=0.0, max=8296.0), HTML(value='')))"
      ]
     },
     "metadata": {},
     "output_type": "display_data"
    },
    {
     "name": "stdout",
     "output_type": "stream",
     "text": [
      "\n"
     ]
    },
    {
     "data": {
      "text/plain": [
       "8296"
      ]
     },
     "execution_count": 19,
     "metadata": {},
     "output_type": "execute_result"
    }
   ],
   "source": [
    "train_path = 'input/train_png'\n",
    "cls_data_path = 'input/negative'\n",
    "for im_id in tqdm_notebook(im_id_no_disease):\n",
    "    im_id = im_id +'.png'\n",
    "    shutil.copy(os.path.join(train_path, im_id),os.path.join(cls_data_path, im_id))\n",
    "    \n",
    "len(os.listdir(cls_data_path))"
   ]
  },
  {
   "cell_type": "code",
   "execution_count": null,
   "metadata": {},
   "outputs": [],
   "source": [
    "df['target'] = -1\n",
    "\n",
    "df.iloc[:,'target'][df.E] = "
   ]
  }
 ],
 "metadata": {
  "kernelspec": {
   "display_name": "ml",
   "language": "python",
   "name": "ml"
  },
  "language_info": {
   "codemirror_mode": {
    "name": "ipython",
    "version": 3
   },
   "file_extension": ".py",
   "mimetype": "text/x-python",
   "name": "python",
   "nbconvert_exporter": "python",
   "pygments_lexer": "ipython3",
   "version": "3.8.5-final"
  }
 },
 "nbformat": 4,
 "nbformat_minor": 4
}